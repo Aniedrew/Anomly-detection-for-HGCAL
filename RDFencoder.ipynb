{
 "cells": [
  {
   "cell_type": "code",
   "execution_count": 1,
   "id": "c3d1cabf",
   "metadata": {},
   "outputs": [],
   "source": [
    "# 第1块：导入所需库\n",
    "import pandas as pd\n",
    "import numpy as np\n",
    "import torch\n",
    "from torch.utils.data import Dataset, DataLoader\n",
    "import torch.nn as nn\n",
    "import torch.optim as optim\n",
    "import matplotlib.pyplot as plt\n"
   ]
  },
  {
   "cell_type": "code",
   "execution_count": 2,
   "id": "f84f9ca7",
   "metadata": {},
   "outputs": [],
   "source": [
    "# 第2块：定义 Dataset（不归一化，跳过第一列 lumi ID）\n",
    "class HGCalDataset(Dataset):\n",
    "    def __init__(self, csv_file):\n",
    "        df = pd.read_csv(csv_file, index_col=False)\n",
    "        self.data = df.iloc[:, 1:].values.astype(np.float32)  # 跳过 lumi ID\n",
    "        # 注意：不再做除以255的归一化\n",
    "\n",
    "    def __len__(self):\n",
    "        return len(self.data)\n",
    "\n",
    "    def __getitem__(self, idx):\n",
    "        return torch.tensor(self.data[idx])\n"
   ]
  },
  {
   "cell_type": "code",
   "execution_count": 3,
   "id": "9a50e8e8",
   "metadata": {},
   "outputs": [],
   "source": [
    "# 第3块：定义 AutoEncoder（104维 → 8维 → 104维）\n",
    "class AE(nn.Module):\n",
    "    def __init__(self):\n",
    "        super(AE, self).__init__()\n",
    "        self.enc = nn.Sequential(\n",
    "            nn.Linear(104, 64),\n",
    "            nn.ReLU(),\n",
    "            nn.Linear(64, 32),\n",
    "            nn.ReLU(),\n",
    "            nn.Linear(32, 8),\n",
    "            nn.ReLU()\n",
    "        )\n",
    "        self.dec = nn.Sequential(\n",
    "            nn.Linear(8, 32),\n",
    "            nn.ReLU(),\n",
    "            nn.Linear(32, 64),\n",
    "            nn.ReLU(),\n",
    "            nn.Linear(64, 104),\n",
    "            nn.Identity()  # 不用 Sigmoid，因为不归一化\n",
    "        )\n",
    "\n",
    "    def forward(self, x):\n",
    "        return self.dec(self.enc(x))\n"
   ]
  },
  {
   "cell_type": "code",
   "execution_count": 4,
   "id": "27729de2",
   "metadata": {},
   "outputs": [],
   "source": [
    "# 第4块：准备训练\n",
    "csv_path = \"hgcal_rdf_training_layer1.csv\"  # ← 请替换成你的实际路径\n",
    "dataset = HGCalDataset(csv_path)\n",
    "loader = DataLoader(dataset, batch_size=16, shuffle=True)\n",
    "\n",
    "model = AE()\n",
    "criterion = nn.MSELoss()\n",
    "optimizer = optim.Adam(model.parameters(), lr=1e-3)\n"
   ]
  },
  {
   "cell_type": "code",
   "execution_count": 5,
   "id": "c1d560e4",
   "metadata": {},
   "outputs": [
    {
     "name": "stdout",
     "output_type": "stream",
     "text": [
      "Epoch 1/15 - Loss: 11298.010742\n",
      "Epoch 2/15 - Loss: 11114.219866\n",
      "Epoch 3/15 - Loss: 10624.580357\n",
      "Epoch 4/15 - Loss: 9148.120396\n",
      "Epoch 5/15 - Loss: 6380.444406\n",
      "Epoch 6/15 - Loss: 3743.368129\n",
      "Epoch 7/15 - Loss: 1850.453230\n",
      "Epoch 8/15 - Loss: 732.663901\n",
      "Epoch 9/15 - Loss: 310.561393\n",
      "Epoch 10/15 - Loss: 159.843427\n",
      "Epoch 11/15 - Loss: 90.591904\n",
      "Epoch 12/15 - Loss: 54.750710\n",
      "Epoch 13/15 - Loss: 38.120409\n",
      "Epoch 14/15 - Loss: 36.690472\n",
      "Epoch 15/15 - Loss: 34.193142\n"
     ]
    }
   ],
   "source": [
    "# 第5块：训练 AutoEncoder 并记录每轮 loss\n",
    "epochs = 15\n",
    "losses = []\n",
    "\n",
    "model.train()\n",
    "for epoch in range(epochs):\n",
    "    total_loss = 0.0\n",
    "    for batch in loader:\n",
    "        output = model(batch)\n",
    "        loss = criterion(output, batch)\n",
    "\n",
    "        optimizer.zero_grad()\n",
    "        loss.backward()\n",
    "        optimizer.step()\n",
    "\n",
    "        total_loss += loss.item()\n",
    "\n",
    "    avg_loss = total_loss / len(loader)\n",
    "    losses.append(avg_loss)\n",
    "    print(f\"Epoch {epoch+1}/{epochs} - Loss: {avg_loss:.6f}\")\n"
   ]
  },
  {
   "cell_type": "code",
   "execution_count": 6,
   "id": "ddfe2ab0",
   "metadata": {},
   "outputs": [
    {
     "data": {
      "image/png": "[encoded data removed]",
      "text/plain": [
       "<Figure size 576x360 with 1 Axes>"
      ]
     },
     "metadata": {
      "needs_background": "light"
     },
     "output_type": "display_data"
    }
   ],
   "source": [
    "# 第6块：画出训练 Loss 曲线\n",
    "plt.figure(figsize=(8, 5))\n",
    "plt.plot(losses, marker='o')\n",
    "plt.title(\"Training Loss over Epochs\")\n",
    "plt.xlabel(\"Epoch\")\n",
    "plt.ylabel(\"MSE Loss\")\n",
    "plt.grid(True)\n",
    "plt.show()\n"
   ]
  }
 ],
 "metadata": {
  "@webio": {
   "lastCommId": null,
   "lastKernelId": null
  },
  "kernelspec": {
   "display_name": "Python 3",
   "language": "python",
   "name": "python3"
  },
  "language_info": {
   "codemirror_mode": {
    "name": "ipython",
    "version": 3
   },
   "file_extension": ".py",
   "mimetype": "text/x-python",
   "name": "python",
   "nbconvert_exporter": "python",
   "pygments_lexer": "ipython3",
   "version": "3.11.9"
  }
 },
 "nbformat": 4,
 "nbformat_minor": 5
}
